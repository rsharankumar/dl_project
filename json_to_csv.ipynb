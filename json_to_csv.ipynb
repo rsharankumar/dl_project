{
 "cells": [
  {
   "cell_type": "code",
   "execution_count": 9,
   "metadata": {
    "collapsed": true
   },
   "outputs": [],
   "source": [
    "import csv\n",
    "import json\n",
    "\n",
    "inputv = open('therock.json').read()\n",
    "data = json.loads(inputv)\n",
    "#inputv.close()\n",
    "\n",
    "f = csv.writer(open(\"train_data.csv\", \"wb+\"))\n",
    "\n",
    "# Write CSV Header, If you dont need that, remove this line\n",
    "f.writerow([\"name\", \"likes_count\", \"comment_count\", \"tags\"])\n",
    "\n",
    "for x in data:\n",
    "    url = x[\"urls\"]\n",
    "    \n",
    "    # check if its a list\n",
    "    if isinstance(url, list):\n",
    "        url = url[0].split(\"/\")\n",
    "        name = url[-1]\n",
    "    else:\n",
    "        print \"something wrong\"\n",
    "\n",
    "    # skip the row if its video\n",
    "    if x[\"type\"] == \"video\":\n",
    "        continue\n",
    "    \n",
    "    f.writerow([name,\n",
    "                x[\"likes\"][\"count\"],\n",
    "                x[\"comments\"][\"count\"],\n",
    "                x[\"tags\"]])"
   ]
  }
 ],
 "metadata": {
  "kernelspec": {
   "display_name": "Python 2",
   "language": "python",
   "name": "python2"
  },
  "language_info": {
   "codemirror_mode": {
    "name": "ipython",
    "version": 2
   },
   "file_extension": ".py",
   "mimetype": "text/x-python",
   "name": "python",
   "nbconvert_exporter": "python",
   "pygments_lexer": "ipython2",
   "version": "2.7.13"
  }
 },
 "nbformat": 4,
 "nbformat_minor": 2
}
